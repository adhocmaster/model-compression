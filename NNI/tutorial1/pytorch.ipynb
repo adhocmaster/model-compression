{
 "cells": [
  {
   "cell_type": "code",
   "execution_count": 1,
   "id": "ef6c1c52-b4b7-40ad-ba55-987123df9dd0",
   "metadata": {},
   "outputs": [],
   "source": [
    "#https://nni.readthedocs.io/en/stable/tutorials/hpo_quickstart_pytorch/main.html#\n"
   ]
  },
  {
   "cell_type": "code",
   "execution_count": 2,
   "id": "278e5d5d-4582-4b47-b8a8-e2c93e483058",
   "metadata": {},
   "outputs": [],
   "source": [
    "search_space = {\n",
    "    'features': {'_type': 'choice', '_value': [128, 256, 512, 1024]},\n",
    "    'lr': {'_type': 'loguniform', '_value': [0.0001, 0.1]},\n",
    "    'momentum': {'_type': 'uniform', '_value': [0, 1]},\n",
    "}"
   ]
  },
  {
   "cell_type": "code",
   "execution_count": 3,
   "id": "60e2bf53-4ef4-4953-8fb1-8ec6fbca9480",
   "metadata": {},
   "outputs": [],
   "source": [
    "from nni.experiment import Experiment\n",
    "experiment = Experiment('local')"
   ]
  },
  {
   "cell_type": "code",
   "execution_count": 4,
   "id": "4458ab4f-6878-44d8-9da0-a0c4b2f387ea",
   "metadata": {},
   "outputs": [],
   "source": [
    "experiment.config.trial_command = 'python model.py'\n",
    "experiment.config.trial_code_directory = '.'"
   ]
  },
  {
   "cell_type": "code",
   "execution_count": 5,
   "id": "9039c67a-636b-4f8d-b445-9d31e3227013",
   "metadata": {},
   "outputs": [],
   "source": [
    "experiment.config.search_space = search_space"
   ]
  },
  {
   "cell_type": "code",
   "execution_count": 6,
   "id": "1d01f1d9-64cc-4e29-bd8a-3272e0fbf265",
   "metadata": {},
   "outputs": [],
   "source": [
    "experiment.config.tuner.name = 'TPE'\n",
    "experiment.config.tuner.class_args['optimize_mode'] = 'maximize'"
   ]
  },
  {
   "cell_type": "code",
   "execution_count": 7,
   "id": "a993ec95-8835-43aa-b101-5d9349b75f4b",
   "metadata": {},
   "outputs": [],
   "source": [
    "experiment.config.max_trial_number = 10\n",
    "experiment.config.trial_concurrency = 2"
   ]
  },
  {
   "cell_type": "code",
   "execution_count": 8,
   "id": "596f0b9e-3243-4163-8521-59dbdd5efc90",
   "metadata": {},
   "outputs": [
    {
     "name": "stdout",
     "output_type": "stream",
     "text": [
      "[2024-07-04 12:45:31] \u001b[32mCreating experiment, Experiment ID: \u001b[36ma82owq9f\u001b[0m\n",
      "[2024-07-04 12:45:31] \u001b[32mStarting web server...\u001b[0m\n",
      "[2024-07-04 12:45:35] \u001b[32mSetting up...\u001b[0m\n",
      "[2024-07-04 12:45:36] \u001b[32mWeb portal URLs: \u001b[36mhttp://128.114.53.122:8080 http://169.254.180.139:8080 http://169.254.152.53:8080 http://169.254.141.115:8080 http://169.254.161.21:8080 http://172.18.110.17:8080 http://127.0.0.1:8080\u001b[0m\n"
     ]
    },
    {
     "data": {
      "text/plain": [
       "True"
      ]
     },
     "execution_count": 8,
     "metadata": {},
     "output_type": "execute_result"
    }
   ],
   "source": [
    "experiment.run(8080)"
   ]
  },
  {
   "cell_type": "code",
   "execution_count": 9,
   "id": "b9f94df1-66db-48ec-8b13-df3a7ff96927",
   "metadata": {},
   "outputs": [
    {
     "name": "stdout",
     "output_type": "stream",
     "text": [
      "[2024-07-04 12:57:06] \u001b[32mStopping experiment, please wait...\u001b[0m\n",
      "[2024-07-04 12:57:06] \u001b[32mSaving experiment checkpoint...\u001b[0m\n",
      "[2024-07-04 12:57:06] \u001b[32mStopping NNI manager, if any...\u001b[0m\n",
      "[2024-07-04 12:57:09] \u001b[32mExperiment stopped.\u001b[0m\n"
     ]
    }
   ],
   "source": [
    "# input('Press enter to quit')\n",
    "experiment.stop()"
   ]
  },
  {
   "cell_type": "code",
   "execution_count": null,
   "id": "bc7620d5-f6ae-414b-9b9f-9ee310405162",
   "metadata": {},
   "outputs": [],
   "source": []
  }
 ],
 "metadata": {
  "kernelspec": {
   "display_name": "Python 3 (ipykernel)",
   "language": "python",
   "name": "python3"
  },
  "language_info": {
   "codemirror_mode": {
    "name": "ipython",
    "version": 3
   },
   "file_extension": ".py",
   "mimetype": "text/x-python",
   "name": "python",
   "nbconvert_exporter": "python",
   "pygments_lexer": "ipython3",
   "version": "3.7.9"
  }
 },
 "nbformat": 4,
 "nbformat_minor": 5
}
